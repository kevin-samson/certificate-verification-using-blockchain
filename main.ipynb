{
 "cells": [
  {
   "cell_type": "code",
   "execution_count": null,
   "metadata": {},
   "outputs": [],
   "source": [
    "from utils import certificate_generator\n",
    "with open('students.csv', 'r') as f:\n",
    "    for line in f:\n",
    "        name, cert = line.strip().split(',')\n",
    "        certificate_generator.generate_certificate(name, 'utils/template.png', f'gen_certs/{name}.png', cert)\n",
    "        print(f'Certificate generated for {name}')"
   ]
  },
  {
   "cell_type": "code",
   "execution_count": null,
   "metadata": {},
   "outputs": [],
   "source": [
    "from utils import sign_certificates\n",
    "crt = sign_certificates.SecureDocumentVerifier(\"HTTP://127.0.0.1:7545\",\"0xbc56bb97DCAe27474b4bBDc2186D671BBbEC0d32\",\"0xc79fdec90c65923f5d999516261d318257d6cf0910877a8b57926f9aaa726b1c\")"
   ]
  },
  {
   "cell_type": "code",
   "execution_count": null,
   "metadata": {},
   "outputs": [],
   "source": [
    "import os\n",
    "for cert in os.listdir('gen_certs'):\n",
    "    cert_path = os.path.join('gen_certs', cert)\n",
    "    with open(cert_path, 'rb') as f:\n",
    "        cert_hash, cert_sign = crt.sign_message(f.read())\n",
    "    with open(\"certificates.csv\", \"a\") as f:\n",
    "        name = cert.split('.')[0]\n",
    "        f.write(f\"{name},{cert_hash},{cert_sign}\\n\")\n",
    "        print(f'Certificate signed for {name}')\n",
    " "
   ]
  },
  {
   "cell_type": "code",
   "execution_count": null,
   "metadata": {},
   "outputs": [],
   "source": [
    "from utils import add_code_to_certi\n",
    "add_code_to_certi.add_qr_code(\"certificates.csv\", \"gen_certs/\", 'gen_certs_with_qr/')"
   ]
  },
  {
   "cell_type": "code",
   "execution_count": null,
   "metadata": {},
   "outputs": [],
   "source": [
    "from solcx import compile_standard, install_solc\n",
    "import json\n",
    "\n",
    "install_solc(\"0.8.0\")\n",
    "\n",
    "with open(\"contract.sol\", \"r\") as f:\n",
    "    contract = f.read()\n",
    "\n",
    "compiled_sol = compile_standard(\n",
    "    {\n",
    "        \"language\": \"Solidity\",\n",
    "        \"sources\": {\"contract.sol\": {\"content\": contract}},\n",
    "        \"settings\": {\n",
    "            \"outputSelection\": {\n",
    "                \"*\": {\n",
    "                    \"*\": [\"abi\", \"metadata\", \"evm.bytecode\", \"evm.bytecode.sourceMap\"]\n",
    "                }\n",
    "            }\n",
    "        },\n",
    "    },\n",
    "    solc_version=\"0.8.0\",\n",
    ")\n",
    "\n",
    "with open(\"compiled_code.json\", \"w\") as f:\n",
    "    f.write(json.dumps(compiled_sol))"
   ]
  },
  {
   "cell_type": "code",
   "execution_count": null,
   "metadata": {},
   "outputs": [],
   "source": [
    "with open(\"compiled_code.json\", \"r\") as f:\n",
    "    compiled_code = json.load(f)\n",
    "\n",
    "bytecode = compiled_code[\"contracts\"][\"contract.sol\"][\"DocumentRegistry\"][\"evm\"][\"bytecode\"][\"object\"]\n",
    "abi = compiled_code[\"contracts\"][\"contract.sol\"][\"DocumentRegistry\"][\"abi\"]"
   ]
  },
  {
   "cell_type": "code",
   "execution_count": null,
   "metadata": {},
   "outputs": [],
   "source": [
    "receipt = crt.deploy_contract(bytecode,abi)\n",
    "contract_address = receipt.contractAddress\n",
    "print(f\"Contract deployed at {contract_address}\")"
   ]
  },
  {
   "cell_type": "code",
   "execution_count": null,
   "metadata": {},
   "outputs": [],
   "source": [
    "with open(\"certificates.csv\", \"r\") as f:\n",
    "    for line in f:\n",
    "        name, cert_hash, cert_sign = line.strip().split(',')\n",
    "        crt.add_document(cert_hash, cert_sign, contract_address, abi)\n",
    "        print(f\"Document added successfully for {name}\")"
   ]
  },
  {
   "cell_type": "code",
   "execution_count": null,
   "metadata": {},
   "outputs": [],
   "source": [
    "crt.verify_document(\"0xa1f71e9ee31b3f22b1846d7824dde1226209590b85f1b58a26dba39390bad7af\", contract_address, abi)"
   ]
  },
  {
   "cell_type": "code",
   "execution_count": null,
   "metadata": {},
   "outputs": [],
   "source": [
    "malicious_account = sign_certificates.SecureDocumentVerifier(\"HTTP://127.0.0.1:7545\",\"0xDE9CC0FD19ec8Ab5d54606A6E8f1cA9D2F54057b\",\"0xe412e3dc507754be0e7328f643c53725031c6f203a71bbb9954c444a30d58149\")\n",
    "malicious_hash, malicious_sign = malicious_account.sign_message(open(\"contract.sol\", \"rb\").read())\n",
    "#malicious_account.add_document(malicious_hash, malicious_sign, contract_address, abi)\n",
    "crt.add_document(malicious_hash, malicious_sign, contract_address, abi)"
   ]
  },
  {
   "cell_type": "code",
   "execution_count": null,
   "metadata": {},
   "outputs": [],
   "source": [
    "import requests\n",
    "with open(\"certificates.csv\", \"r\") as f:\n",
    "    for line in f:\n",
    "        name, cert_hash, cert_sign = line.strip().split(',')\n",
    "        response = requests.post(\"http://localhost:5000/upload\",files={\"image\":(cert_hash+\".png\",open(f\"gen_certs/{name}.png\",\"rb\"))})\n",
    "        print(response.text)"
   ]
  },
  {
   "cell_type": "code",
   "execution_count": null,
   "metadata": {},
   "outputs": [],
   "source": [
    "from utils import scan_qr_code\n",
    "import cv2\n",
    "from eth_account.messages import defunct_hash_message\n",
    "import requests\n",
    "from IPython.display import display, Image\n",
    "\n",
    "cap = cv2.VideoCapture(0)\n",
    "if not cap.isOpened():\n",
    "  print(\"Error opening webcam\")\n",
    "code = scan_qr_code.scan_qr_code(cap)\n",
    "print(code)\n",
    "if crt.verify_document(code, contract_address, abi):\n",
    "    print(\"Document verified successfully\")\n",
    "    response = requests.get(f\"http://localhost:5000/download/{code}.png\")\n",
    "    if response.status_code == 200:\n",
    "        img = response.content\n",
    "        if defunct_hash_message(img).hex() == code:\n",
    "            print(\"The downloaded image is correct\")\n",
    "            display(Image(data=img))\n",
    "        else:\n",
    "            print(\"The downloaded image is incorrect\")\n",
    "    else:\n",
    "        print(\"Thank you\")\n",
    "else:\n",
    "    print(\"Document verification failed\")"
   ]
  }
 ],
 "metadata": {
  "kernelspec": {
   "display_name": ".venv",
   "language": "python",
   "name": "python3"
  },
  "language_info": {
   "codemirror_mode": {
    "name": "ipython",
    "version": 3
   },
   "file_extension": ".py",
   "mimetype": "text/x-python",
   "name": "python",
   "nbconvert_exporter": "python",
   "pygments_lexer": "ipython3",
   "version": "3.12.3"
  }
 },
 "nbformat": 4,
 "nbformat_minor": 2
}
